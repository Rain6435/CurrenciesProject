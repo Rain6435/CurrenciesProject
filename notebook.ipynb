{
 "cells": [
  {
   "cell_type": "markdown",
   "metadata": {},
   "source": [
    "Ce programme implémente l'algorithme génétique pour une application de conversion de monnaie dans le but de trouver le groupe de monnaie qui permettent un gain."
   ]
  },
  {
   "cell_type": "code",
   "execution_count": 1877,
   "metadata": {},
   "outputs": [
    {
     "name": "stdout",
     "output_type": "stream",
     "text": [
      "Requirement already satisfied: requests in c:\\users\\brosi\\appdata\\local\\packages\\pythonsoftwarefoundation.python.3.10_qbz5n2kfra8p0\\localcache\\local-packages\\python310\\site-packages (2.28.1)\n",
      "Requirement already satisfied: urllib3<1.27,>=1.21.1 in c:\\users\\brosi\\appdata\\local\\packages\\pythonsoftwarefoundation.python.3.10_qbz5n2kfra8p0\\localcache\\local-packages\\python310\\site-packages (from requests) (1.26.12)\n",
      "Requirement already satisfied: charset-normalizer<3,>=2 in c:\\users\\brosi\\appdata\\local\\packages\\pythonsoftwarefoundation.python.3.10_qbz5n2kfra8p0\\localcache\\local-packages\\python310\\site-packages (from requests) (2.1.1)\n",
      "Requirement already satisfied: idna<4,>=2.5 in c:\\users\\brosi\\appdata\\local\\packages\\pythonsoftwarefoundation.python.3.10_qbz5n2kfra8p0\\localcache\\local-packages\\python310\\site-packages (from requests) (3.4)\n",
      "Requirement already satisfied: certifi>=2017.4.17 in c:\\users\\brosi\\appdata\\local\\packages\\pythonsoftwarefoundation.python.3.10_qbz5n2kfra8p0\\localcache\\local-packages\\python310\\site-packages (from requests) (2022.9.24)\n"
     ]
    }
   ],
   "source": [
    "! pip install requests --user\n",
    "\n",
    "from collections import namedtuple\n",
    "from functools import partial\n",
    "from random import choices, randint, randrange,random\n",
    "from typing import List,Callable,Tuple\n",
    "import requests\n",
    "from tkinter import *\n",
    "import tkinter as tk\n",
    "import json\n",
    "from tkinter import ttk\n",
    "import time\n",
    "import csv\n",
    "import numpy"
   ]
  },
  {
   "cell_type": "markdown",
   "metadata": {},
   "source": [
    "Classe qui permet de retourner un object de type Currency qui permet de traiter monnaies."
   ]
  },
  {
   "cell_type": "code",
   "execution_count": 1878,
   "metadata": {},
   "outputs": [],
   "source": [
    "class Currency:\n",
    "    def __init__(self, name:str,rate:float):\n",
    "        self.name = name\n",
    "        self.rate = rate\n",
    "    def __str__(self):\n",
    "        return f\"{self.name}:{self.rate}\""
   ]
  },
  {
   "cell_type": "markdown",
   "metadata": {},
   "source": [
    "Classe qui permet de convertir des objets de type Currency."
   ]
  },
  {
   "cell_type": "code",
   "execution_count": 1879,
   "metadata": {},
   "outputs": [],
   "source": [
    "class RealTimeCurrencyConverter():\n",
    "    def __init__(self, url,name):\n",
    "        self.data = requests.get(url+name).json()\n",
    "        self.data.update()\n",
    "        self.currencies = self.data['rates']\n",
    "        self.name = name\n",
    "\n",
    "    def convert(self, from_currency:Currency, to_currency:Currency, amount):\n",
    "        initial_amount = amount\n",
    "        if from_currency != self.name:\n",
    "            amount = amount / self.currencies[from_currency.name]\n",
    "\n",
    "        # limiting the precision to 4 decimal places\n",
    "        amount = round(amount * self.currencies[to_currency.name], 4)\n",
    "        return amount"
   ]
  },
  {
   "cell_type": "markdown",
   "metadata": {},
   "source": [
    "Objets qui nous servirons lors de l'application de l'algorithme génétique."
   ]
  },
  {
   "cell_type": "code",
   "execution_count": 1880,
   "metadata": {},
   "outputs": [],
   "source": [
    "Genome = List[Currency]\n",
    "Population = List[Genome]"
   ]
  },
  {
   "cell_type": "markdown",
   "metadata": {},
   "source": [
    "Variables pour la liste de monnaies présentent dans le API."
   ]
  },
  {
   "cell_type": "code",
   "execution_count": 1881,
   "metadata": {},
   "outputs": [],
   "source": [
    "url = 'https://api.exchangerate-api.com/v4/latest/'\n",
    "converter = RealTimeCurrencyConverter(url,\"USD\")\n",
    "global s\n",
    "s = []\n",
    "for key,value in converter.currencies.items():\n",
    "    a = Currency(key,value)\n",
    "    s.append(a)\n",
    "global things\n",
    "things = s\n",
    "global realGainer\n",
    "realGainer = []"
   ]
  },
  {
   "cell_type": "markdown",
   "metadata": {},
   "source": [
    "Fonction qui génère une liste génome aléatoirement de la liste de monnaie retourné du API."
   ]
  },
  {
   "cell_type": "code",
   "execution_count": 1882,
   "metadata": {},
   "outputs": [],
   "source": [
    "def generete_genome(length:int)->Genome:\n",
    "    return choices(s, k = length)"
   ]
  },
  {
   "cell_type": "markdown",
   "metadata": {},
   "source": [
    "Fonction qui génère une population de génomes sur laquelle appliqué l'algorithme."
   ]
  },
  {
   "cell_type": "code",
   "execution_count": 1883,
   "metadata": {},
   "outputs": [],
   "source": [
    "def generate_population(size:int, genome_length)->Population:\n",
    "    return [generete_genome(genome_length) for _ in range(size)]"
   ]
  },
  {
   "cell_type": "markdown",
   "metadata": {},
   "source": [
    "Fonction Fitness qui retourne un génome de monnaies(Currency) qui offre un gain."
   ]
  },
  {
   "cell_type": "code",
   "execution_count": 1884,
   "metadata": {},
   "outputs": [],
   "source": [
    "def fitness(genome:Genome, things = things)->Genome:\n",
    "    global gainers\n",
    "    gainers = []\n",
    "    j = 0\n",
    "    for i in genome[j:len(genome)]:\n",
    "        j+=1\n",
    "        for x in genome[j:len(genome)]:\n",
    "            j+=1\n",
    "            a = converter.convert(i,x,1)\n",
    "            for c in genome[j:len(genome)]:\n",
    "                j+=1\n",
    "                m = converter.convert(x,c,a)\n",
    "                for z in genome[j:len(genome)]:\n",
    "                    j+=1\n",
    "                    o = converter.convert(c,z,m)\n",
    "                    for y in genome[j:len(genome)]:\n",
    "                        h = converter.convert(z,y,o)\n",
    "                        f = converter.convert(y,i,h)\n",
    "                        if(f>i.rate):\n",
    "                            #print(\"Adding Gainer\")\n",
    "                            realGainer.append([[i,x,c,z,y],f-i.rate])\n",
    "                            break\n",
    "                        if(f<i.rate):\n",
    "                            gainers.append([i,x,c,z,y])\n",
    "                            #print(\"Loss\")\n",
    "                        #if(f==genome[i].rate):\n",
    "                        #    print(\"Nothing\")\n",
    "    return gainers"
   ]
  },
  {
   "cell_type": "markdown",
   "metadata": {},
   "source": [
    "Fontion qui sélectionne un pair de monnaies parmi les monnaies passé."
   ]
  },
  {
   "cell_type": "code",
   "execution_count": 1885,
   "metadata": {},
   "outputs": [],
   "source": [
    "def selection_pair(population:Population):\n",
    "    return choices(population,k=2)"
   ]
  },
  {
   "cell_type": "markdown",
   "metadata": {},
   "source": [
    "Fonction qui croise deux génomes passé et qui retourne un duo de génomes générés pas le croisement."
   ]
  },
  {
   "cell_type": "code",
   "execution_count": 1886,
   "metadata": {},
   "outputs": [],
   "source": [
    "def single_point_crossover(a:Genome, b:Genome, popuLength:int) -> Tuple[Genome,Genome]:\n",
    "    p = randint(1, popuLength)\n",
    "    return a[0][0:p] + b[0][p:], b[0][0:p] + a[0][p:]"
   ]
  },
  {
   "cell_type": "markdown",
   "metadata": {},
   "source": [
    "Fonction de mutation d'un génome."
   ]
  },
  {
   "cell_type": "code",
   "execution_count": 1887,
   "metadata": {},
   "outputs": [],
   "source": [
    "def mutation(genome:Genome) -> Genome:\n",
    "    num = 1\n",
    "    prob = 0.8\n",
    "    for _ in range(num):\n",
    "        index = randrange(len(genome))\n",
    "        genome[index] = genome[index] if random() > prob else genome[abs(index - 1)]\n",
    "    return genome"
   ]
  },
  {
   "cell_type": "markdown",
   "metadata": {},
   "source": [
    "Fonction qui permet d'exécuter chaque propriété de l'algorithme génétique"
   ]
  },
  {
   "cell_type": "code",
   "execution_count": 1888,
   "metadata": {},
   "outputs": [],
   "source": [
    "def run_evolution(popultionSize,populationLength):\n",
    "    population = generate_population(popultionSize,populationLength)\n",
    "    s = []\n",
    "    for i in population:\n",
    "        t = fitness(i)\n",
    "        if(t == []):\n",
    "            population.remove(i)\n",
    "        if (t != []):\n",
    "            s.append(t)\n",
    "    if(len(s)>=2):\n",
    "        global next_generation\n",
    "        next_generation = s[0:2]\n",
    "        parents = selection_pair(s)\n",
    "        offspring_a,offspring_b=single_point_crossover(parents[0],parents[1],len(s))\n",
    "        offspring_a = mutation(offspring_a)\n",
    "        offspring_b = mutation(offspring_b)\n",
    "        next_generation += [offspring_a,offspring_b]\n",
    "        population = next_generation\n",
    "    return population"
   ]
  },
  {
   "cell_type": "code",
   "execution_count": 1889,
   "metadata": {},
   "outputs": [],
   "source": [
    "def main():\n",
    "    a = run_evolution(1000, 5)\n",
    "    # open the file in the write mode\n",
    "    print(\"Applying fitness to a\")\n",
    "    u = []\n",
    "    for i in a:\n",
    "        for ii in i:\n",
    "            if(type(ii) == type(i)):\n",
    "                r = fitness(ii)\n",
    "                u.append(r)\n",
    "                break\n",
    "        t = fitness(i)\n",
    "        if (t == []):\n",
    "            print(\"Not fit\")\n",
    "            a.remove(i)\n",
    "        if (t != []):\n",
    "            print(\"Adding T\")\n",
    "            u.append(t)\n",
    "\n",
    "    # print(a)\n",
    "    # print(u)\n",
    "\n",
    "    f2 = open('/CurrenciesProject/data2.csv', 'w')\n",
    "    writer2 = csv.writer(f2)\n",
    "    for uu in u:\n",
    "        for uuu in uu:\n",
    "            writer2.writerow(uuu)\n",
    "\n",
    "    f = open('/CurrenciesProject/data.csv', 'w')\n",
    "\n",
    "    # create the csv writer\n",
    "    writer = csv.writer(f)\n",
    "\n",
    "    # write a row to the csv file\n",
    "    \n",
    "    for aa in realGainer:\n",
    "        p = []\n",
    "        for aaa in aa[0]:\n",
    "            p.append((str(aaa)))\n",
    "        writer.writerow((p,aa[1]))\n",
    "        \n",
    "\n",
    "    # close the file\n",
    "    f.close()\n"
   ]
  },
  {
   "cell_type": "code",
   "execution_count": 1890,
   "metadata": {},
   "outputs": [
    {
     "name": "stdout",
     "output_type": "stream",
     "text": [
      "Applying fitness to a\n",
      "Not fit\n",
      "Adding T\n",
      "Adding T\n"
     ]
    }
   ],
   "source": [
    "if __name__ == \"__main__\":\n",
    "    main()"
   ]
  }
 ],
 "metadata": {
  "kernelspec": {
   "display_name": "Python 3.10.8 64-bit (microsoft store)",
   "language": "python",
   "name": "python3"
  },
  "language_info": {
   "codemirror_mode": {
    "name": "ipython",
    "version": 3
   },
   "file_extension": ".py",
   "mimetype": "text/x-python",
   "name": "python",
   "nbconvert_exporter": "python",
   "pygments_lexer": "ipython3",
   "version": "3.10.8"
  },
  "orig_nbformat": 4,
  "vscode": {
   "interpreter": {
    "hash": "7b74da9788bc694c087ed73fe356ceb14ad0967bad9e7b60e1632e7bed403cba"
   }
  }
 },
 "nbformat": 4,
 "nbformat_minor": 2
}
